{
 "cells": [
  {
   "cell_type": "markdown",
   "id": "1b80e25e",
   "metadata": {},
   "source": [
    "# Data Engineer Challenger\n",
    "## Damavis 2023\n",
    "\n",
    "Alejandro Lema Fernández (DNI 11864880P)"
   ]
  },
  {
   "cell_type": "markdown",
   "id": "e1670c54",
   "metadata": {},
   "source": [
    "### Initial exploratory analysis"
   ]
  },
  {
   "cell_type": "code",
   "execution_count": 1,
   "id": "e8c8fcda",
   "metadata": {},
   "outputs": [],
   "source": [
    "# labyrinth = [\n",
    "#     ['.','.','.','.'],\n",
    "#     ['.','.','.','.'],\n",
    "#     ['.','.','.','.']\n",
    "# ]\n",
    "\n",
    "labyrinth = [\n",
    "    ['.','.','.','.','.','.','.','.','.'],\n",
    "    ['#','.','.','.','#','.','.','.','.'],\n",
    "    ['.','.','.','.','#','.','.','.','.'],\n",
    "    ['.','#','.','.','.','.','.','#','.'],\n",
    "    ['.','#','.','.','.','.','.','#','.']\n",
    "]"
   ]
  },
  {
   "cell_type": "code",
   "execution_count": 2,
   "id": "cbcc8b30",
   "metadata": {},
   "outputs": [
    {
     "name": "stdout",
     "output_type": "stream",
     "text": [
      "The labyrinth is a matrix of dimension 5x9\n"
     ]
    }
   ],
   "source": [
    "# labyrinth dimensions\n",
    "row_num = len(labyrinth)\n",
    "col_num = len(labyrinth[0])\n",
    "\n",
    "print(f'The labyrinth is a matrix of dimension {row_num}x{col_num}')"
   ]
  },
  {
   "cell_type": "markdown",
   "id": "a41d00d9",
   "metadata": {},
   "source": [
    "### Note:\n",
    "``labyrinth[i][j]`` --> if ``i==row_num`` and/or ``j==col_num``, the index would be out of range\n",
    "\n",
    "It's important to understand this in order to make the is_valid_move conditions later on"
   ]
  },
  {
   "cell_type": "code",
   "execution_count": 3,
   "id": "3e3fb814",
   "metadata": {},
   "outputs": [],
   "source": [
    "# # this should give 'IndexError'\n",
    "\n",
    "# labyrinth[row_num][col_num]"
   ]
  },
  {
   "cell_type": "markdown",
   "id": "2cde07ce",
   "metadata": {},
   "source": [
    "---"
   ]
  },
  {
   "cell_type": "code",
   "execution_count": 4,
   "id": "82ddc711",
   "metadata": {},
   "outputs": [],
   "source": [
    "# function to check labyrinth constraints:\n",
    "\n",
    "def check_constrains(labyrinth):\n",
    "    # labyrinth dimensions\n",
    "    row_num = len(labyrinth)\n",
    "    col_num = len(labyrinth[0])\n",
    "    \n",
    "    if 3 <= row_num <= 1000:               # Constrain 1\n",
    "        constrain_1 = 'True'\n",
    "    else:\n",
    "        constrain_1 = 'False'\n",
    "\n",
    "    for i in range(row_num):\n",
    "        if 3 <= len(labyrinth[i]) <= 1000: # Constrain 2\n",
    "            constrain_2 = 'True'\n",
    "        else:\n",
    "            constrain_2 = 'False'\n",
    "\n",
    "        if len(labyrinth[i]) == col_num:   # Constrain 3 (check that all lists are the same length)\n",
    "            constrain_3 = 'True' \n",
    "        else:\n",
    "            constrains_3 = 'False'\n",
    "            break\n",
    "\n",
    "    if ((constrain_1 == 'False') or (constrain_2 == 'False')):\n",
    "        print('ERROR: invalid labyrinth shape')\n",
    "    elif constrain_3 == 'False':\n",
    "        print('ERROR: rows are not the same length')\n",
    "    else:\n",
    "        print('OK: valid input labyrinth')\n",
    "        print(f'The labyrinth is a matrix of dimension {row_num}x{col_num}')"
   ]
  },
  {
   "cell_type": "markdown",
   "id": "2ccaa422",
   "metadata": {},
   "source": [
    "---"
   ]
  },
  {
   "cell_type": "markdown",
   "id": "cf759003",
   "metadata": {},
   "source": [
    "**Note: the cells marked as _[explanatory cell code]_ are not really necessary to execute the code. They just contain useful explanations about it.**"
   ]
  },
  {
   "cell_type": "code",
   "execution_count": 5,
   "id": "efbe6154",
   "metadata": {},
   "outputs": [
    {
     "name": "stdout",
     "output_type": "stream",
     "text": [
      "['(0,0)', '.', '.', '.', '.', '.', '.', '.', '.']\n",
      "['(1,0)', '.', '.', '.', '#', '.', '.', '.', '.']\n",
      "['.', '.', '.', '.', '#', '.', '.', '.', '.']\n",
      "['.', '#', '.', '.', '.', '.', '.', '#', '.']\n",
      "['.', '#', '.', '.', '.', '.', '.', '#', '.']\n"
     ]
    }
   ],
   "source": [
    "# [explanatory cell code]\n",
    "# we will use (i, j) to represent the cells of the labyrinth\n",
    "\n",
    "# for example\n",
    "\n",
    "labyrinth = [\n",
    "    ['.','.','.','.','.','.','.','.','.'],\n",
    "    ['#','.','.','.','#','.','.','.','.'],\n",
    "    ['.','.','.','.','#','.','.','.','.'],\n",
    "    ['.','#','.','.','.','.','.','#','.'],\n",
    "    ['.','#','.','.','.','.','.','#','.']\n",
    "]\n",
    "\n",
    "(i, j) = (0, 0)\n",
    "labyrinth[i][j] = '(0,0)'\n",
    "\n",
    "(i, j) = (1, 0)\n",
    "labyrinth[i][j] = '(1,0)'\n",
    "\n",
    "for row in labyrinth:\n",
    "    print(row)"
   ]
  },
  {
   "cell_type": "markdown",
   "id": "5f73b82e",
   "metadata": {},
   "source": [
    "**(i, j) will represent the rows and columns of the matrix**"
   ]
  },
  {
   "cell_type": "code",
   "execution_count": 6,
   "id": "0605c18d",
   "metadata": {},
   "outputs": [
    {
     "data": {
      "text/plain": [
       "[(2, 2), (2, 3), (2, 4), (3, 2), (3, 4), (4, 2), (4, 3), (4, 4)]"
      ]
     },
     "execution_count": 6,
     "metadata": {},
     "output_type": "execute_result"
    }
   ],
   "source": [
    "# [explanatory cell code]\n",
    "# how to access (3x3) surrounding area cells:\n",
    "\n",
    "i, j = 3, 3 # example for the rod center position cell\n",
    "\n",
    "[(x,y) for x in range(i-1, i+2) for y in range(j-1, j+2) if (x,y) != (i,j)] # exclude the rod center cell"
   ]
  },
  {
   "cell_type": "code",
   "execution_count": 7,
   "id": "60e89c1d",
   "metadata": {},
   "outputs": [],
   "source": [
    "# function to check if a cell displacement is a valid move, given the position (i, j) to which we would be moving the rod\n",
    "\n",
    "def is_valid_move(labyrinth, i, j, horizontal):\n",
    "    rows, cols = len(labyrinth), len(labyrinth[0]) # labyrinth dimensions\n",
    "    \n",
    "    if horizontal:\n",
    "        # check if the center and both side cells are inside labyrinth boundaries and not blocked\n",
    "        return (0 <= i < rows and 0 <= j < cols and labyrinth[i][j] != '#' and\n",
    "                0 <= i < rows and 0 <= j - 1 < cols and labyrinth[i][j - 1] != '#' and\n",
    "                0 <= i < rows and 0 <= j + 1 < cols and labyrinth[i][j + 1] != '#')\n",
    "    else: # vertical\n",
    "        # check if the center and both top/bottom cells are inside labyrinth boundaries and not blocked\n",
    "        return (0 <= i < rows and 0 <= j < cols and labyrinth[i][j] != '#' and\n",
    "                0 <= i - 1 < rows and 0 <= j < cols and labyrinth[i - 1][j] != '#' and\n",
    "                0 <= i + 1 < rows and 0 <= j < cols and labyrinth[i + 1][j] != '#')"
   ]
  },
  {
   "cell_type": "code",
   "execution_count": 8,
   "id": "1cac3a64",
   "metadata": {},
   "outputs": [],
   "source": [
    "# function to check if a cell (i, j) is a valid rotation center\n",
    "\n",
    "def is_valid_rotation_center(labyrinth, i, j):\n",
    "    rows, cols = len(labyrinth), len(labyrinth[0]) # labyrinth dimensions\n",
    "\n",
    "    # center is valid if cell is not surrounded by a wall nor a blocked cell\n",
    "    return (0 < i < (rows-1) and 0 < j < (cols-1) and # not near a wall\n",
    "            labyrinth[i-1][j] != '#' and  # Check above\n",
    "            labyrinth[i+1][j] != '#' and  # Check below\n",
    "            labyrinth[i][j-1] != '#' and  # Check left\n",
    "            labyrinth[i][j+1] != '#' and  # Check right\n",
    "            labyrinth[i-1][j-1] != '#' and  # Check top-left\n",
    "            labyrinth[i-1][j+1] != '#' and  # Check top-right\n",
    "            labyrinth[i+1][j-1] != '#' and  # Check bottom-left\n",
    "            labyrinth[i+1][j+1] != '#')     # Check bottom-right"
   ]
  },
  {
   "cell_type": "code",
   "execution_count": 9,
   "id": "c585817e",
   "metadata": {},
   "outputs": [],
   "source": [
    "# # DEPRECATED: function to check is a rotation is a valid move, given a position (i, j)\n",
    "\n",
    "# def is_valid_rotation(labyrinth, i, j):\n",
    "#     for x in range(i-1, i+2):                       # these for loops cover the (3x3) surrounding area\n",
    "#         for y in range(j-1, j+2):\n",
    "#             if (x, y) == (i, j):                    # no need to check for the current position (i, j)\n",
    "#                 continue                           \n",
    "#             if not is_valid_move(labyrinth, x, y):  # (*) check if surrounding area is clear from obstacles or the walls\n",
    "#                 return False                        # invalid rotation\n",
    "#     return True                                     # valid rotation"
   ]
  },
  {
   "cell_type": "code",
   "execution_count": 10,
   "id": "e8e694db",
   "metadata": {},
   "outputs": [
    {
     "data": {
      "text/plain": [
       "False"
      ]
     },
     "execution_count": 10,
     "metadata": {},
     "output_type": "execute_result"
    }
   ],
   "source": [
    "# [explanatory cell code]\n",
    "# how to define a rotation\n",
    "horizontal = True\n",
    "not horizontal"
   ]
  },
  {
   "cell_type": "code",
   "execution_count": 11,
   "id": "20662961",
   "metadata": {},
   "outputs": [],
   "source": [
    "# function to find all possible moves and rotations, given a position (i, j)\n",
    "\n",
    "def get_adjacent_positions(labyrinth, i, j, horizontal):     # horizontal just needed to keep it in the output\n",
    "    directions = [(0, 1), (0, -1), (1, 0), (-1, 0)]          # possible movements\n",
    "    \n",
    "    adjacent_positions = []\n",
    "    \n",
    "    # rod displacements:\n",
    "    for di, dj in directions:                                # d for move direction\n",
    "        ni, nj = i + di, j + dj                              # n for new position\n",
    "        if is_valid_move(labyrinth, ni, nj, horizontal):\n",
    "            adjacent_positions.append((ni, nj, horizontal))  # consider all valid moves\n",
    "\n",
    "    # rod rotations:\n",
    "    if labyrinth[i][j] == '.' and is_valid_rotation_center(labyrinth, i, j):\n",
    "        adjacent_positions.append((i, j, not horizontal))    # consider rotation if valid (if True, change to False and viceversa)\n",
    "\n",
    "    # print('adj', adjacent_positions)                       # @@ interesting to follow the process\n",
    "    return adjacent_positions                                # logic behind this list:\n",
    "                                                                # if i,j != to adjacent_positions --> possible moves\n",
    "                                                                # if i,j == adjacent_positions --> possible rotation"
   ]
  },
  {
   "cell_type": "code",
   "execution_count": 12,
   "id": "a9461c42",
   "metadata": {},
   "outputs": [
    {
     "name": "stdout",
     "output_type": "stream",
     "text": [
      "The labyrinth is a matrix of dimension (3x4)\n",
      "\n",
      "Possible ending cells:\n",
      "(2, 2) (1, 3)\n",
      "\n",
      "Verification:\n",
      "['.', '.', '.', '.']\n",
      "['.', '.', '.', 'b']\n",
      "['.', '.', 'a', '.']\n"
     ]
    }
   ],
   "source": [
    "# [explanatory cell code]\n",
    "# understanding ending cells for the rod center (2 options)\n",
    "\n",
    "labyrinth = [\n",
    "    ['.','.','.','.'],\n",
    "    ['.','.','.','.'],\n",
    "    ['.','.','.','.']\n",
    "]\n",
    "\n",
    "rows_example, cols_example = len(labyrinth), len(labyrinth[0])\n",
    "\n",
    "print(f'The labyrinth is a matrix of dimension ({rows_example}x{cols_example})')\n",
    "\n",
    "destination_a = (rows_example - 1, cols_example - 2) # option 1\n",
    "destination_b = (rows_example - 2, cols_example - 1) # option 2\n",
    "\n",
    "print()\n",
    "print('Possible ending cells:')\n",
    "print(destination_a, destination_b)\n",
    "print()\n",
    "\n",
    "labyrinth[destination_a[0]][destination_a[1]] = 'a'\n",
    "labyrinth[destination_b[0]][destination_b[1]] = 'b'\n",
    "\n",
    "print('Verification:')\n",
    "for row in labyrinth:\n",
    "    print(row)"
   ]
  },
  {
   "cell_type": "markdown",
   "id": "8303a202",
   "metadata": {},
   "source": [
    "Despite not doing so in the previous cell code, we are going to add a 3th element to reflect the orientation:\n",
    "\n",
    "`position = (i, j, horizontal)`\n",
    "\n",
    "where _horizontal_ will a boolean variable, `True` (horizontal) or `False` (vertical)"
   ]
  },
  {
   "cell_type": "code",
   "execution_count": 13,
   "id": "8d017b6b",
   "metadata": {},
   "outputs": [
    {
     "name": "stdout",
     "output_type": "stream",
     "text": [
      "(4, 7, True) (3, 8, False)\n",
      "#\n",
      ".\n",
      "case 1 (3, 8, False) (3, 8, False)\n"
     ]
    }
   ],
   "source": [
    "# [CHECKING cell code]\n",
    "# check if our conditions for the ending cells work properly:\n",
    "\n",
    "labyrinth = [\n",
    "    ['.', '.', '.', '.', '.', '.', '.', '.', '.'],\n",
    "    ['#', '.', '.', '.', '#', '.', '.', '.', '.'],\n",
    "    ['.', '.', '.', '.', '#', '.', '.', '.', '.'],\n",
    "    ['.', '#', '.', '.', '.', '.', '.', '#', '.'],\n",
    "    ['.', '#', '.', '.', '.', '.', '.', '#', '.']\n",
    "]\n",
    "\n",
    "rows = len(labyrinth)\n",
    "cols = len(labyrinth[0])\n",
    "\n",
    "destination_a = (rows - 1, cols - 2, True)\n",
    "destination_b = (rows - 2, cols - 1, False)\n",
    "print(destination_a, destination_b)\n",
    "\n",
    "print(labyrinth[destination_a[0]][destination_a[1]])\n",
    "print(labyrinth[destination_b[0]][destination_b[1]] )\n",
    "\n",
    "if labyrinth[destination_a[0]][destination_a[1]] == '#':\n",
    "    if labyrinth[destination_b[0]][destination_b[1]] == '#':\n",
    "        a = 2                                   # - if both are blocked, then return -1\n",
    "        print('ups')\n",
    "    else:\n",
    "        destination_a = destination_b           # - if only dest_a is blocked, we stick to dest_b\n",
    "        print('case 1', destination_a, destination_b)\n",
    "elif labyrinth[destination_b[0]][destination_b[1]] == '#':\n",
    "    destination_b = destination_a               # - if only dest_b is blocked, we stick to dest_a\n",
    "    print('case 2', destination_a, destination_b)"
   ]
  },
  {
   "cell_type": "markdown",
   "id": "a8eb99b2",
   "metadata": {},
   "source": [
    "Finally, the next function uses the previously defined ones to calculate all the different routes our rod could take, but taking the following things into account:\n",
    "\n",
    "- there will be 0, 1 or 2 possible destination cells for our rod center\n",
    "- we will consider all possible moves and rotations, but as we want the minimum number of moves, we won't consider moves that take us back to a \"move\" (cell+orientation) thet we have already explored\n",
    "- we use a deque or \"double-ended queue\" to make sure we test all possibilites one by one"
   ]
  },
  {
   "cell_type": "code",
   "execution_count": 14,
   "id": "5e83b8f8",
   "metadata": {},
   "outputs": [
    {
     "data": {
      "text/plain": [
       "((0, 1, True), 0)"
      ]
     },
     "execution_count": 14,
     "metadata": {},
     "output_type": "execute_result"
    }
   ],
   "source": [
    "# [explanatory cell code]\n",
    "# understanding how deque works (\"double-ended queue\")\n",
    "\n",
    "from collections import deque\n",
    "\n",
    "start = (0, 1, True)\n",
    "queue = deque([(start, 0)])\n",
    "\n",
    "queue[0]"
   ]
  },
  {
   "cell_type": "code",
   "execution_count": 15,
   "id": "aa8352e1",
   "metadata": {},
   "outputs": [],
   "source": [
    "# function to find the minimun number of moves required to get to the end of a given labyrinth\n",
    "\n",
    "from collections import deque\n",
    "\n",
    "def min_moves_to_destination(labyrinth):\n",
    "    start = (0, 1, True)                            # starting position for the rod center is always the same (0, 1, horizontal)\n",
    "    \n",
    "    # there are 2 possible ending cells for the rod center...\n",
    "    rows = len(labyrinth)\n",
    "    cols = len(labyrinth[0])\n",
    "    destination_a = (rows - 1, cols - 2, True)      # option 1 (horizontal)\n",
    "    destination_b = (rows - 2, cols - 1, False)     # option 2 (vertical)\n",
    "    \n",
    "    # ...unless any of them is blocked by '#'\n",
    "    if labyrinth[destination_a[0]][destination_a[1]] == '#':\n",
    "        if labyrinth[destination_b[0]][destination_b[1]] == '#':\n",
    "            return -1                               # - if both are blocked, then return -1\n",
    "        else:\n",
    "            destination_a = destination_b           # - if only dest_a is blocked, we stick to dest_b\n",
    "    elif labyrinth[destination_b[0]][destination_b[1]] == '#':\n",
    "        destination_b = destination_a               # - if only dest_b is blocked, we stick to dest_a\n",
    "    \n",
    "    # print(destination_a, destination_b)           # @@ interesting to follow the process\n",
    "    \n",
    "    queue = deque([(start, 0)])                     # (position, moves counter)\n",
    "    explored = set()                                # registry for the already explored cells\n",
    "    \n",
    "    while queue:                                    # runs as long as there are elements in the queue (cells to explore)\n",
    "        \n",
    "        # print('explored:', explored)                # @@ interesting to follow the process\n",
    "        # print()\n",
    "        # print('queue:', queue)\n",
    "        \n",
    "        (i, j, horizontal), moves = queue.popleft() # extracts left element (current position, number of moves, orientation)\n",
    "\n",
    "        if (i, j, horizontal) == destination_a or (i, j, horizontal) == destination_b:\n",
    "            return moves\n",
    "\n",
    "        if (i, j, horizontal) in explored:\n",
    "            continue\n",
    "\n",
    "        explored.add((i, j, horizontal))\n",
    "\n",
    "        for ni, nj, next_horizontal in get_adjacent_positions(labyrinth, i, j, horizontal):\n",
    "            queue.append(((ni, nj, next_horizontal), moves + 1))\n",
    "        \n",
    "    return -1    # return -1 only if no valid destination is found after exploring the entire labyrinth"
   ]
  },
  {
   "cell_type": "markdown",
   "id": "3884e5c2",
   "metadata": {},
   "source": [
    "---\n",
    "\n",
    "## Testing the code"
   ]
  },
  {
   "cell_type": "code",
   "execution_count": 16,
   "id": "3f554c73",
   "metadata": {},
   "outputs": [
    {
     "name": "stdout",
     "output_type": "stream",
     "text": [
      "OK: valid input labyrinth\n",
      "The labyrinth is a matrix of dimension 5x9\n",
      "\n",
      "The minimun number of moves required to reach the end of the labyrinth is:\n",
      " 11\n"
     ]
    }
   ],
   "source": [
    "# test 1\n",
    "labyrinth = [\n",
    "    ['.', '.', '.', '.', '.', '.', '.', '.', '.'],\n",
    "    ['#', '.', '.', '.', '#', '.', '.', '.', '.'],\n",
    "    ['.', '.', '.', '.', '#', '.', '.', '.', '.'],\n",
    "    ['.', '#', '.', '.', '.', '.', '.', '#', '.'],\n",
    "    ['.', '#', '.', '.', '.', '.', '.', '#', '.']\n",
    "]\n",
    "\n",
    "constrains = check_constrains(labyrinth) # in case que want to check the constrains, we got a separate function for that\n",
    "\n",
    "result = min_moves_to_destination(labyrinth) # output: minimum number of moves required to reach the destination\n",
    "\n",
    "print(f'\\nThe minimun number of moves required to reach the end of the labyrinth is:\\n {result}')"
   ]
  },
  {
   "cell_type": "code",
   "execution_count": 17,
   "id": "fd786dff",
   "metadata": {},
   "outputs": [
    {
     "name": "stdout",
     "output_type": "stream",
     "text": [
      "\n",
      "The minimun number of moves required to reach the end of the labyrinth is:\n",
      " 3\n"
     ]
    }
   ],
   "source": [
    "# test 2\n",
    "labyrinth = [\n",
    "    ['.','.','.','.'],\n",
    "    ['.','.','.','.'],\n",
    "    ['.','.','.','.']\n",
    "]\n",
    "\n",
    "result = min_moves_to_destination(labyrinth)\n",
    "\n",
    "print(f'\\nThe minimun number of moves required to reach the end of the labyrinth is:\\n {result}')"
   ]
  },
  {
   "cell_type": "code",
   "execution_count": 18,
   "id": "4b7aa2d9",
   "metadata": {},
   "outputs": [
    {
     "name": "stdout",
     "output_type": "stream",
     "text": [
      "\n",
      "The minimun number of moves required to reach the end of the labyrinth is:\n",
      " 16\n"
     ]
    }
   ],
   "source": [
    "# test 3\n",
    "labyrinth = [\n",
    "    ['.','.','.','.','.','.','.','.','.','.'],\n",
    "    ['.','#','.','.','.','.','#','.','.','.'],\n",
    "    ['.','#','.','.','.','.','.','.','.','.'],\n",
    "    ['.','.','.','.','.','.','.','.','.','.'],\n",
    "    ['.','.','.','.','.','.','.','.','.','.'],\n",
    "    ['.','#','.','.','.','.','.','.','.','.'],\n",
    "    ['.','#','.','.','.','#','.','.','.','.'],\n",
    "    ['.','.','.','.','.','.','#','.','.','.'],\n",
    "    ['.','.','.','.','.','.','.','.','.','.'],\n",
    "    ['.','.','.','.','.','.','.','.','.','.']\n",
    "]\n",
    "\n",
    "result = min_moves_to_destination(labyrinth)\n",
    "\n",
    "print(f'\\nThe minimun number of moves required to reach the end of the labyrinth is:\\n {result}')"
   ]
  },
  {
   "cell_type": "code",
   "execution_count": 19,
   "id": "bf5616c4",
   "metadata": {},
   "outputs": [
    {
     "name": "stdout",
     "output_type": "stream",
     "text": [
      "\n",
      "The minimun number of moves required to reach the end of the labyrinth is:\n",
      " -1\n"
     ]
    }
   ],
   "source": [
    "# test 4\n",
    "labyrinth = [\n",
    "    ['.', '.', '.', '.', '.', '.', '.', '.', '.'],\n",
    "    ['#', '.', '.', '.', '#', '.', '.', '#', '.'],\n",
    "    ['.', '.', '.', '.', '#', '.', '.', '.', '.'],\n",
    "    ['.', '#', '.', '.', '.', '.', '.', '#', '.'],\n",
    "    ['.', '#', '.', '.', '.', '.', '.', '#', '.']\n",
    "]\n",
    "\n",
    "result = min_moves_to_destination(labyrinth)\n",
    "\n",
    "print(f'\\nThe minimun number of moves required to reach the end of the labyrinth is:\\n {result}')"
   ]
  },
  {
   "cell_type": "markdown",
   "id": "ebab5b0e",
   "metadata": {},
   "source": [
    "### Looks like the code works! :)"
   ]
  }
 ],
 "metadata": {
  "kernelspec": {
   "display_name": "Python 3 (ipykernel)",
   "language": "python",
   "name": "python3"
  },
  "language_info": {
   "codemirror_mode": {
    "name": "ipython",
    "version": 3
   },
   "file_extension": ".py",
   "mimetype": "text/x-python",
   "name": "python",
   "nbconvert_exporter": "python",
   "pygments_lexer": "ipython3",
   "version": "3.9.7"
  }
 },
 "nbformat": 4,
 "nbformat_minor": 5
}
