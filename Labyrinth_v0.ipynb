{
 "cells": [
  {
   "cell_type": "code",
   "execution_count": 19,
   "id": "7b4b62b0",
   "metadata": {},
   "outputs": [],
   "source": [
    "# import numpy as np"
   ]
  },
  {
   "cell_type": "code",
   "execution_count": 100,
   "id": "e8c8fcda",
   "metadata": {},
   "outputs": [
    {
     "name": "stdout",
     "output_type": "stream",
     "text": [
      "The labyrinth is a matrix of dimension 3x4\n"
     ]
    }
   ],
   "source": [
    "labyrinth = [\n",
    "    ['.','.','.','.'],\n",
    "    ['.','.','.','.'],\n",
    "    ['.','.','.','.']\n",
    "]\n",
    "\n",
    "row_num = len(labyrinth)\n",
    "col_num = len(labyrinth[0])\n",
    "\n",
    "print(f'The labyrinth is a matrix of dimension {row_num}x{col_num}')"
   ]
  },
  {
   "cell_type": "code",
   "execution_count": 101,
   "id": "82ddc711",
   "metadata": {},
   "outputs": [
    {
     "name": "stdout",
     "output_type": "stream",
     "text": [
      "OK: valid input labyrinth\n"
     ]
    }
   ],
   "source": [
    "# Constraints check:\n",
    "if 3 <= row_num <= 1000:\n",
    "    constrain_1 = 'True'\n",
    "else:\n",
    "    constrain_1 = 'False'\n",
    "\n",
    "for i in range(row_num):\n",
    "    if 3 <= len(labyrinth[i]) <= 1000:\n",
    "        constrain_2 = 'True'\n",
    "    else:\n",
    "        constrain_2 = 'False'\n",
    "    \n",
    "    if len(labyrinth[i]) == col_num: # check that all lists are the same length\n",
    "        constrain_3 = 'True'\n",
    "    else:\n",
    "        constrains_3 = 'False'\n",
    "        break\n",
    "    \n",
    "if ((constrain_1 == 'False') or (constrain_2 == 'False')):\n",
    "    print('ERROR: invalid labyrinth shape')\n",
    "elif constrain_3 == 'False':\n",
    "    print('ERROR: rows are not the same length')\n",
    "else:\n",
    "    print('OK: valid input labyrinth')"
   ]
  },
  {
   "cell_type": "code",
   "execution_count": 9,
   "id": "8ea4e3fa",
   "metadata": {},
   "outputs": [
    {
     "data": {
      "text/plain": [
       "list"
      ]
     },
     "execution_count": 9,
     "metadata": {},
     "output_type": "execute_result"
    }
   ],
   "source": [
    "type(labyrinth)"
   ]
  },
  {
   "cell_type": "code",
   "execution_count": 10,
   "id": "6b8047a4",
   "metadata": {},
   "outputs": [
    {
     "data": {
      "text/plain": [
       "['.', '.', '.', '.']"
      ]
     },
     "execution_count": 10,
     "metadata": {},
     "output_type": "execute_result"
    }
   ],
   "source": [
    "labyrinth[0]"
   ]
  },
  {
   "cell_type": "code",
   "execution_count": 12,
   "id": "9973f94b",
   "metadata": {},
   "outputs": [
    {
     "data": {
      "text/plain": [
       "'.'"
      ]
     },
     "execution_count": 12,
     "metadata": {},
     "output_type": "execute_result"
    }
   ],
   "source": [
    "labyrinth[1][3]"
   ]
  },
  {
   "cell_type": "code",
   "execution_count": null,
   "id": "d0a32981",
   "metadata": {},
   "outputs": [],
   "source": []
  },
  {
   "cell_type": "code",
   "execution_count": null,
   "id": "21b9ba5a",
   "metadata": {},
   "outputs": [],
   "source": []
  },
  {
   "cell_type": "code",
   "execution_count": null,
   "id": "4e0e1e57",
   "metadata": {},
   "outputs": [],
   "source": []
  },
  {
   "cell_type": "code",
   "execution_count": null,
   "id": "af240c4b",
   "metadata": {},
   "outputs": [],
   "source": []
  }
 ],
 "metadata": {
  "kernelspec": {
   "display_name": "Python 3 (ipykernel)",
   "language": "python",
   "name": "python3"
  },
  "language_info": {
   "codemirror_mode": {
    "name": "ipython",
    "version": 3
   },
   "file_extension": ".py",
   "mimetype": "text/x-python",
   "name": "python",
   "nbconvert_exporter": "python",
   "pygments_lexer": "ipython3",
   "version": "3.9.12"
  }
 },
 "nbformat": 4,
 "nbformat_minor": 5
}
